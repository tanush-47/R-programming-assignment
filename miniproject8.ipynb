{
  "nbformat": 4,
  "nbformat_minor": 0,
  "metadata": {
    "colab": {
      "provenance": [],
      "authorship_tag": "ABX9TyOwefgRy1hT80EMsnD22bKn",
      "include_colab_link": true
    },
    "kernelspec": {
      "name": "python3",
      "display_name": "Python 3"
    },
    "language_info": {
      "name": "python"
    }
  },
  "cells": [
    {
      "cell_type": "markdown",
      "metadata": {
        "id": "view-in-github",
        "colab_type": "text"
      },
      "source": [
        "<a href=\"https://colab.research.google.com/github/tanush-47/R-programming-assignment/blob/main/miniproject8.ipynb\" target=\"_parent\"><img src=\"https://colab.research.google.com/assets/colab-badge.svg\" alt=\"Open In Colab\"/></a>"
      ]
    },
    {
      "cell_type": "markdown",
      "source": [
        "# Q1. Create a file that contains 1000 lines of random strings."
      ],
      "metadata": {
        "id": "iFIrIrQvmqT7"
      }
    },
    {
      "cell_type": "code",
      "source": [
        "# Function to generate a random string of given length\n",
        "generate_random_string <- function(length) {\n",
        "  paste0(sample(c(letters, LETTERS, 0:9), length, replace = TRUE), collapse = \"\")\n",
        "}\n",
        "\n",
        "# Generate 1000 random strings (length between 6 and 12)\n",
        "random_strings <- sapply(1:1000, function(x) generate_random_string(sample(6:12, 1)))\n",
        "\n",
        "# Write to a file\n",
        "writeLines(random_strings, \"random_strings.txt\")\n",
        "\n",
        "cat(\"File 'random_strings.txt' created with 1000 random strings.\\n\")\n"
      ],
      "metadata": {
        "id": "9s4Xd8nUmu49"
      },
      "execution_count": null,
      "outputs": []
    },
    {
      "cell_type": "markdown",
      "source": [
        "# Q2. Create a random dataset of 100 rows and 30 columns. All the values are defined between [1,200]. Perform the following operations:"
      ],
      "metadata": {
        "id": "p6DwVfa2myWV"
      }
    },
    {
      "cell_type": "markdown",
      "source": [
        "(i) Replace all the values with NA in the dataset defined between [10, 60]. Print the count of number\n",
        "rows having missing values."
      ],
      "metadata": {
        "id": "qGeqSGUjnaPm"
      }
    },
    {
      "cell_type": "code",
      "source": [
        "# Set seed for reproducibility\n",
        "set.seed(123)\n",
        "\n",
        "# Step 1: Create 100x30 dataset with values between 1 and 200\n",
        "data <- matrix(sample(1:200, 100 * 30, replace = TRUE), nrow = 100, ncol = 30)\n",
        "df <- as.data.frame(data)\n",
        "\n",
        "# Step 2: Replace values in [10, 60] with NA\n",
        "df[df >= 10 & df <= 60] <- NA\n",
        "\n",
        "# Step 3: Count number of rows with missing values\n",
        "rows_with_na <- sum(apply(df, 1, function(x) any(is.na(x))))\n",
        "cat(\"Number of rows with missing values:\", rows_with_na, \"\\n\")\n"
      ],
      "metadata": {
        "id": "716KxCstnf1h"
      },
      "execution_count": null,
      "outputs": []
    },
    {
      "cell_type": "markdown",
      "source": [
        "(ii) Replace all the NA values with the average of the column value."
      ],
      "metadata": {
        "id": "7O_VQg0gnjQr"
      }
    },
    {
      "cell_type": "code",
      "source": [
        "# Replace NA with column means\n",
        "for (i in 1:ncol(df)) {\n",
        "  col_mean <- mean(df[[i]], na.rm = TRUE)\n",
        "  df[[i]][is.na(df[[i]])] <- col_mean\n",
        "}\n"
      ],
      "metadata": {
        "id": "ozc8JR7-nm51"
      },
      "execution_count": null,
      "outputs": []
    },
    {
      "cell_type": "markdown",
      "source": [
        "(iii) Find the Pearson correlation among all the columns and plot heat map. Also select those columns\n",
        "having correlation <=0.7.\n"
      ],
      "metadata": {
        "id": "fD8IuHFynrUE"
      }
    },
    {
      "cell_type": "code",
      "source": [
        "# Compute Pearson correlation matrix\n",
        "cor_matrix <- cor(df, method = \"pearson\")\n",
        "\n",
        "# Plot heatmap\n",
        "heatmap(cor_matrix, main = \"Pearson Correlation Heatmap\", col = colorRampPalette(c(\"blue\", \"white\", \"red\"))(100))\n",
        "\n",
        "# Select columns with max correlation ≤ 0.7\n",
        "max_cor_values <- apply(cor_matrix, 2, function(x) max(x[x < 1]))\n",
        "selected_cols <- names(which(max_cor_values <= 0.7))\n",
        "\n",
        "cat(\"Columns with max correlation <= 0.7:\\n\")\n",
        "print(selected_cols)\n"
      ],
      "metadata": {
        "id": "mHuTfy5GnxWa"
      },
      "execution_count": null,
      "outputs": []
    },
    {
      "cell_type": "markdown",
      "source": [
        "(iv) Normalize all the values in the dataset between 0 and 10."
      ],
      "metadata": {
        "id": "eFCXQ-jrn0Oq"
      }
    },
    {
      "cell_type": "code",
      "source": [
        "# Normalize each column to [0, 10]\n",
        "normalize <- function(x) {\n",
        "  (x - min(x)) / (max(x) - min(x)) * 10\n",
        "}\n",
        "df_normalized <- as.data.frame(lapply(df, normalize))\n"
      ],
      "metadata": {
        "id": "Xf_MMQyVn3Th"
      },
      "execution_count": null,
      "outputs": []
    },
    {
      "cell_type": "markdown",
      "source": [
        "(v) Replace all the values in the dataset with 1 if value <=0.5 else with 0."
      ],
      "metadata": {
        "id": "fndSeikdn57r"
      }
    },
    {
      "cell_type": "code",
      "source": [
        "# Binary thresholding\n",
        "df_binary <- as.data.frame(lapply(df_normalized, function(x) ifelse(x <= 0.5, 1, 0)))\n"
      ],
      "metadata": {
        "id": "G9GwcjjLn-gH"
      },
      "execution_count": null,
      "outputs": []
    },
    {
      "cell_type": "markdown",
      "source": [
        "# Q3. Create a random dataset of 500 rows and 10 columns.\n"
      ],
      "metadata": {
        "id": "s3RDtT12oW6F"
      }
    },
    {
      "cell_type": "markdown",
      "source": [
        "Columns 1 to 4 are defined between [-10, 10];\n",
        "\n",
        "Columns 5 to 8 are defined between [10, 20];\n",
        "\n",
        "Columns 9 to 10 are defined between [-100, 100].\n",
        "\n",
        "Apply following clustering algorithms; determine the optimal number of clusters and plot distance metric graph using each algorithm."
      ],
      "metadata": {
        "id": "cAmXIURjonFE"
      }
    },
    {
      "cell_type": "markdown",
      "source": [
        "(i) K-Mean clustering\n"
      ],
      "metadata": {
        "id": "2NcZ9abEo2b3"
      }
    },
    {
      "cell_type": "code",
      "source": [
        "set.seed(123)\n",
        "\n",
        "# Generate dataset\n",
        "data <- data.frame(\n",
        "  matrix(runif(500 * 4, min = -10, max = 10), ncol = 4),\n",
        "  matrix(runif(500 * 4, min = 10, max = 20), ncol = 4),\n",
        "  matrix(runif(500 * 2, min = -100, max = 100), ncol = 2)\n",
        ")\n",
        "colnames(data) <- paste0(\"V\", 1:10)\n",
        "\n",
        "#Elbow Method to determine optimal number of clusters\n",
        "library(factoextra)\n",
        "\n",
        "# Compute total within-cluster sum of square for 1 to 10 clusters\n",
        "fviz_nbclust(data, kmeans, method = \"wss\") +\n",
        "  ggtitle(\"K-Means: Elbow Method\")\n",
        "\n",
        "  # Apply K-means with optimal k (assume k = 3 for example)\n",
        "\n",
        "  k <- 3\n",
        "kmeans_result <- kmeans(data, centers = k, nstart = 25)\n",
        "\n",
        "# Plot clusters\n",
        "fviz_cluster(kmeans_result, data = data, main = \"K-Means Clustering\")\n"
      ],
      "metadata": {
        "id": "GA5Nrkrio6_X"
      },
      "execution_count": null,
      "outputs": []
    },
    {
      "cell_type": "markdown",
      "source": [
        "(ii) Hierarchical Clustering"
      ],
      "metadata": {
        "id": "DuT9MBI_pdnM"
      }
    },
    {
      "cell_type": "code",
      "source": [
        "# Calculate Euclidean distance\n",
        "dist_matrix <- dist(scale(data), method = \"euclidean\")\n",
        "\n",
        "# Hierarchical clustering\n",
        "hc <- hclust(dist_matrix, method = \"ward.D2\")\n",
        "\n",
        "# Plot dendrogram\n",
        "plot(hc, main = \"Hierarchical Clustering Dendrogram\", xlab = \"\", sub = \"\")\n",
        "\n",
        "# Cut the tree into k clusters (say 3)\n",
        "\n",
        "rect.hclust(hc, k = 3, border = \"red\")\n",
        "clusters_hc <- cutree(hc, k = 3)\n"
      ],
      "metadata": {
        "id": "xLOQJiI3plQc"
      },
      "execution_count": null,
      "outputs": []
    },
    {
      "cell_type": "markdown",
      "source": [
        "# Q4. Create a random dataset of 600 rows and 15 columns. All the values are defined between [-100,100].\n",
        "## Perform the following operations:"
      ],
      "metadata": {
        "id": "kyESGGhGqBLl"
      }
    },
    {
      "cell_type": "markdown",
      "source": [
        "(i) Plot scatter graph between Column 5 and Column 6.\n"
      ],
      "metadata": {
        "id": "nhIDw1YSqJjK"
      }
    },
    {
      "cell_type": "code",
      "source": [
        "set.seed(123)\n",
        "\n",
        "# Generate dataset: 600 rows, 15 columns, values in [-100, 100]\n",
        "data <- as.data.frame(matrix(runif(600 * 15, min = -100, max = 100), nrow = 600))\n",
        "colnames(data) <- paste0(\"V\", 1:15)\n",
        "\n",
        "plot(data$V5, data$V6,\n",
        "     main = \"Scatter Plot: Column 5 vs Column 6\",\n",
        "     xlab = \"Column 5\", ylab = \"Column 6\",\n",
        "     pch = 19, col = \"blue\")\n"
      ],
      "metadata": {
        "id": "B4kjjv_1qNSH"
      },
      "execution_count": null,
      "outputs": []
    },
    {
      "cell_type": "markdown",
      "source": [
        "(ii) Plot Histogram of Each Column in a Single Graph"
      ],
      "metadata": {
        "id": "YVF9DqcKqZ5t"
      }
    },
    {
      "cell_type": "code",
      "source": [
        "library(ggplot2)\n",
        "library(reshape2)\n",
        "\n",
        "# Melt data for plotting\n",
        "data_melt <- melt(data)\n",
        "\n",
        "# Histogram for each column using facets\n",
        "ggplot(data_melt, aes(x = value)) +\n",
        "  geom_histogram(bins = 30, fill = \"skyblue\", color = \"black\") +\n",
        "  facet_wrap(~ variable, scales = \"free\") +\n",
        "  theme_minimal() +\n",
        "  labs(title = \"Histograms of All Columns\")\n"
      ],
      "metadata": {
        "id": "PeNA1qIeqsTf"
      },
      "execution_count": null,
      "outputs": []
    },
    {
      "cell_type": "markdown",
      "source": [
        "(iii) Plot Box Plot of Each Column in a Single Graph"
      ],
      "metadata": {
        "id": "y828ZQptqvgH"
      }
    },
    {
      "cell_type": "code",
      "source": [
        "ggplot(data_melt, aes(x = variable, y = value)) +\n",
        "  geom_boxplot(fill = \"orange\", color = \"black\") +\n",
        "  theme_minimal() +\n",
        "  labs(title = \"Boxplots of All Columns\", x = \"Column\", y = \"Value\") +\n",
        "  theme(axis.text.x = element_text(angle = 90, hjust = 1))\n"
      ],
      "metadata": {
        "id": "lsYASxeaqzqU"
      },
      "execution_count": null,
      "outputs": []
    },
    {
      "cell_type": "markdown",
      "source": [
        "# Q5. Create a random dataset of 500 rows and 5 columns: All the values are defined between [5,10]. Perform the following operations:\n"
      ],
      "metadata": {
        "id": "S2P2yOfYq2Rh"
      }
    },
    {
      "cell_type": "markdown",
      "source": [
        "(i) Perform t-Test on each column."
      ],
      "metadata": {
        "id": "_ooQiyorrmw3"
      }
    },
    {
      "cell_type": "code",
      "source": [
        "set.seed(123)\n",
        "\n",
        "# Create dataset with values between [5,10]\n",
        "data <- as.data.frame(matrix(runif(500 * 5, min = 5, max = 10), nrow = 500))\n",
        "colnames(data) <- paste0(\"V\", 1:5)\n",
        "\n",
        "cat(\"One-sample t-tests (H0: mean = 7.5):\\n\")\n",
        "for (i in 1:5) {\n",
        "  test_result <- t.test(data[[i]], mu = 7.5)\n",
        "  cat(paste(\"Column\", i, \"p-value:\", round(test_result$p.value, 5), \"\\n\"))\n",
        "}\n"
      ],
      "metadata": {
        "id": "krLy7YgvrrZE"
      },
      "execution_count": null,
      "outputs": []
    },
    {
      "cell_type": "markdown",
      "source": [
        "(ii) Perform Wilcoxon Signed-Rank Test on each column"
      ],
      "metadata": {
        "id": "t4Yk59DUryFK"
      }
    },
    {
      "cell_type": "code",
      "source": [
        "cat(\"\\nWilcoxon signed-rank tests (H0: median = 7.5):\\n\")\n",
        "for (i in 1:5) {\n",
        "  wilcox_result <- wilcox.test(data[[i]], mu = 7.5)\n",
        "  cat(paste(\"Column\", i, \"p-value:\", round(wilcox_result$p.value, 5), \"\\n\"))\n",
        "}\n"
      ],
      "metadata": {
        "id": "Ud6dqSyBr1QP"
      },
      "execution_count": null,
      "outputs": []
    },
    {
      "cell_type": "markdown",
      "source": [
        "(iii) Two-sample t-Test and Wilcoxon Rank Sum Test on Column 3 & Column 4"
      ],
      "metadata": {
        "id": "_3h_qQBxr68K"
      }
    },
    {
      "cell_type": "code",
      "source": [
        "# Randomly assign rows to two groups\n",
        "group <- sample(c(\"A\", \"B\"), 500, replace = TRUE)\n",
        "\n",
        "# Create two groups from Column 3\n",
        "group1_col3 <- data$V3[group == \"A\"]\n",
        "group2_col3 <- data$V3[group == \"B\"]\n",
        "\n",
        "# Create two groups from Column 4\n",
        "group1_col4 <- data$V4[group == \"A\"]\n",
        "group2_col4 <- data$V4[group == \"B\"]\n",
        "\n",
        "# Two-sample t-test between Column 3 and Column 4 groups\n",
        "ttest_result <- t.test(group1_col3, group2_col4)\n",
        "cat(\"\\nTwo-sample t-test between Column 3 and Column 4 groups:\\n\")\n",
        "print(ttest_result)\n",
        "\n",
        "# Wilcoxon rank-sum test (Mann-Whitney U test)\n",
        "wilcox_result <- wilcox.test(group1_col3, group2_col4)\n",
        "cat(\"\\nWilcoxon rank-sum test between Column 3 and Column 4 groups:\\n\")\n",
        "print(wilcox_result)\n"
      ],
      "metadata": {
        "colab": {
          "base_uri": "https://localhost:8080/",
          "height": 106
        },
        "id": "dHZRFNLMr-yN",
        "outputId": "5e241ae5-4eb9-40de-b798-a4bf343c8803"
      },
      "execution_count": 1,
      "outputs": [
        {
          "output_type": "error",
          "ename": "SyntaxError",
          "evalue": "invalid syntax (ipython-input-1-870396101.py, line 5)",
          "traceback": [
            "\u001b[0;36m  File \u001b[0;32m\"/tmp/ipython-input-1-870396101.py\"\u001b[0;36m, line \u001b[0;32m5\u001b[0m\n\u001b[0;31m    group1_col3 <- data$V3[group == \"A\"]\u001b[0m\n\u001b[0m                       ^\u001b[0m\n\u001b[0;31mSyntaxError\u001b[0m\u001b[0;31m:\u001b[0m invalid syntax\n"
          ]
        }
      ]
    }
  ]
}